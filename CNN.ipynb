{
  "nbformat": 4,
  "nbformat_minor": 0,
  "metadata": {
    "colab": {
      "provenance": [],
      "gpuType": "T4",
      "authorship_tag": "ABX9TyNL/tOQo4BhJuHha6JCOJdK",
      "include_colab_link": true
    },
    "kernelspec": {
      "name": "python3",
      "display_name": "Python 3"
    },
    "language_info": {
      "name": "python"
    },
    "accelerator": "GPU"
  },
  "cells": [
    {
      "cell_type": "markdown",
      "metadata": {
        "id": "view-in-github",
        "colab_type": "text"
      },
      "source": [
        "<a href=\"https://colab.research.google.com/github/PilarToZiomal/Fashion-MNIST-AI/blob/main/CNN.ipynb\" target=\"_parent\"><img src=\"https://colab.research.google.com/assets/colab-badge.svg\" alt=\"Open In Colab\"/></a>"
      ]
    },
    {
      "cell_type": "code",
      "execution_count": 2,
      "metadata": {
        "id": "DgZaWjQHcJEJ"
      },
      "outputs": [],
      "source": [
        "import torch\n",
        "import torch.nn as nn\n",
        "import torch.nn.functional as F\n",
        "from torch.utils.data import DataLoader\n",
        "from torchvision import datasets, transforms\n",
        "from torchvision.utils import make_grid\n",
        "\n",
        "import numpy as np\n",
        "import pandas as pd\n",
        "from sklearn.metrics import confusion_matrix\n",
        "import matplotlib.pyplot as plt\n",
        "%matplotlib inline"
      ]
    },
    {
      "cell_type": "code",
      "source": [
        "# Convert dataset into a tensor 4D (# of img, H, W, Colour chnl)\n",
        "transform = transforms.ToTensor()"
      ],
      "metadata": {
        "id": "F8LRApx9hoQ3"
      },
      "execution_count": 3,
      "outputs": []
    },
    {
      "cell_type": "code",
      "source": [
        "# Train, test Data\n",
        "train_data = datasets.FashionMNIST('data',train=True,download=True,transform=transform)\n",
        "test_data = datasets.FashionMNIST('data',train=False,download=True,transform=transform)\n",
        "\n",
        "# Show Data\n",
        "train_data, test_data"
      ],
      "metadata": {
        "colab": {
          "base_uri": "https://localhost:8080/"
        },
        "id": "BQtC4m2Ph_Ia",
        "outputId": "94073ce7-8e8e-49dd-8107-1bd6eac2db2b"
      },
      "execution_count": 5,
      "outputs": [
        {
          "output_type": "execute_result",
          "data": {
            "text/plain": [
              "(Dataset FashionMNIST\n",
              "     Number of datapoints: 60000\n",
              "     Root location: data\n",
              "     Split: Train\n",
              "     StandardTransform\n",
              " Transform: ToTensor(),\n",
              " Dataset FashionMNIST\n",
              "     Number of datapoints: 10000\n",
              "     Root location: data\n",
              "     Split: Test\n",
              "     StandardTransform\n",
              " Transform: ToTensor())"
            ]
          },
          "metadata": {},
          "execution_count": 5
        }
      ]
    },
    {
      "cell_type": "code",
      "source": [
        "# Step by Step:\n",
        "train_loader = DataLoader(train_data, batch_size=10, shuffle=True)\n",
        "test_loader = DataLoader(test_data, batch_size=10, shuffle = False )"
      ],
      "metadata": {
        "id": "jJozYM2wikHa"
      },
      "execution_count": 6,
      "outputs": []
    },
    {
      "cell_type": "code",
      "source": [
        "# Define CNN Model\n",
        "conv1 = nn.Conv2d(in_channels = 1, out_channels = 16, kernel_size = 3, padding = 1)\n",
        "conv2 = nn.Conv2d(16, 32, 3, 1, 1) # Explained above"
      ],
      "metadata": {
        "id": "uEPnjCn2iqe1"
      },
      "execution_count": 7,
      "outputs": []
    },
    {
      "cell_type": "code",
      "source": [
        "# Grab 1 img\n",
        "for i, (X_Train, y_train) in enumerate(train_data):\n",
        "    break"
      ],
      "metadata": {
        "id": "yAtPbiS6pr4V"
      },
      "execution_count": 8,
      "outputs": []
    },
    {
      "cell_type": "code",
      "source": [
        "X_Train.shape"
      ],
      "metadata": {
        "colab": {
          "base_uri": "https://localhost:8080/"
        },
        "id": "0GijuC1CqShD",
        "outputId": "158e1215-0091-42d2-e74e-735ae6c0a4a1"
      },
      "execution_count": 9,
      "outputs": [
        {
          "output_type": "execute_result",
          "data": {
            "text/plain": [
              "torch.Size([1, 28, 28])"
            ]
          },
          "metadata": {},
          "execution_count": 9
        }
      ]
    },
    {
      "cell_type": "code",
      "source": [
        "x = X_Train.view(1,1,28,28)"
      ],
      "metadata": {
        "id": "4bPpFI1Lq9Le"
      },
      "execution_count": 10,
      "outputs": []
    },
    {
      "cell_type": "code",
      "source": [
        "# 1st convolution\n",
        "x = F.relu(conv1(x))\n",
        "x.shape"
      ],
      "metadata": {
        "colab": {
          "base_uri": "https://localhost:8080/"
        },
        "id": "rB-pqVXSrFhJ",
        "outputId": "1de192ab-929b-4fdc-ab9a-154c08facc08"
      },
      "execution_count": 11,
      "outputs": [
        {
          "output_type": "execute_result",
          "data": {
            "text/plain": [
              "torch.Size([1, 16, 28, 28])"
            ]
          },
          "metadata": {},
          "execution_count": 11
        }
      ]
    },
    {
      "cell_type": "code",
      "source": [
        "# 1st pooling\n",
        "x = F.max_pool2d(x, 2, 2) # kernal=2, stride=2\n",
        "x.shape # 28 / 2 = 14"
      ],
      "metadata": {
        "colab": {
          "base_uri": "https://localhost:8080/"
        },
        "id": "nVx8DWgssd4-",
        "outputId": "758096bc-26c8-49c1-fd0f-7000bfe15642"
      },
      "execution_count": 12,
      "outputs": [
        {
          "output_type": "execute_result",
          "data": {
            "text/plain": [
              "torch.Size([1, 16, 14, 14])"
            ]
          },
          "metadata": {},
          "execution_count": 12
        }
      ]
    },
    {
      "cell_type": "code",
      "source": [
        "# 2nd convolution\n",
        "x = F.relu(conv2(x))\n",
        "x.shape"
      ],
      "metadata": {
        "colab": {
          "base_uri": "https://localhost:8080/"
        },
        "id": "taz1oXn-tOkh",
        "outputId": "91619983-cdaa-4524-935a-09fe6c1bd97d"
      },
      "execution_count": 13,
      "outputs": [
        {
          "output_type": "execute_result",
          "data": {
            "text/plain": [
              "torch.Size([1, 32, 14, 14])"
            ]
          },
          "metadata": {},
          "execution_count": 13
        }
      ]
    },
    {
      "cell_type": "code",
      "source": [
        "# 2nd pooling\n",
        "x = F.max_pool2d(x, 2, 2)\n",
        "x.shape # 14 / 2 = 7"
      ],
      "metadata": {
        "colab": {
          "base_uri": "https://localhost:8080/"
        },
        "id": "tR6QbODBtej9",
        "outputId": "b26533ce-eecb-457d-e2bb-303d21e177bc"
      },
      "execution_count": 14,
      "outputs": [
        {
          "output_type": "execute_result",
          "data": {
            "text/plain": [
              "torch.Size([1, 32, 7, 7])"
            ]
          },
          "metadata": {},
          "execution_count": 14
        }
      ]
    },
    {
      "cell_type": "code",
      "source": [
        "# Model Class\n",
        "class FashionCNN(nn.Module):\n",
        "  def __init__(self):\n",
        "    super().__init__()\n",
        "    self.conv1 = nn.Conv2d(1, 16, 3, 1, 1)\n",
        "    self.conv2 = nn.Conv2d(16, 32, 3, 1, 1)\n",
        "\n",
        "    self.fc1 = nn.Linear(7*7*32, 512) # 7*7*32 -> Look 2nd pooling\n",
        "    self.fc2 = nn.Linear(512, 256)\n",
        "    self.fc3 = nn.Linear(256, 10)\n",
        "\n",
        "  def forward(self, X):\n",
        "    X = F.relu(self.conv1(X))\n",
        "    X = F.max_pool2d(X, 2, 2)\n",
        "    X = F.relu(self.conv2(X))\n",
        "    X = F.max_pool2d(X, 2, 2)\n",
        "\n",
        "    # Re-View -> flatten data out\n",
        "    X = X.view(-1, 7*7*32) # -1 because we can vary the batch size\n",
        "\n",
        "    # FCL (Fully Connected Layers)\n",
        "    X = F.relu(self.fc1(X))\n",
        "    X = F.relu(self.fc2(X))\n",
        "    X = self.fc3(X)\n",
        "\n",
        "    return F.log_softmax(X, dim=1)\n"
      ],
      "metadata": {
        "id": "oK2Cx33EtiGn"
      },
      "execution_count": 15,
      "outputs": []
    },
    {
      "cell_type": "code",
      "source": [
        "# Instance of Model\n",
        "torch.manual_seed(7)\n",
        "model = FashionCNN()\n",
        "model"
      ],
      "metadata": {
        "colab": {
          "base_uri": "https://localhost:8080/"
        },
        "id": "cI0jmc1hwuT7",
        "outputId": "415101fe-e64b-46a2-cc62-ff60e035b960"
      },
      "execution_count": 16,
      "outputs": [
        {
          "output_type": "execute_result",
          "data": {
            "text/plain": [
              "FashionCNN(\n",
              "  (conv1): Conv2d(1, 16, kernel_size=(3, 3), stride=(1, 1), padding=(1, 1))\n",
              "  (conv2): Conv2d(16, 32, kernel_size=(3, 3), stride=(1, 1), padding=(1, 1))\n",
              "  (fc1): Linear(in_features=1568, out_features=512, bias=True)\n",
              "  (fc2): Linear(in_features=512, out_features=256, bias=True)\n",
              "  (fc3): Linear(in_features=256, out_features=10, bias=True)\n",
              ")"
            ]
          },
          "metadata": {},
          "execution_count": 16
        }
      ]
    },
    {
      "cell_type": "code",
      "source": [
        "# LFO (Loss Function Optimizer)\n",
        "criterion = nn.CrossEntropyLoss()\n",
        "optimizer = torch.optim.Adam(model.parameters(), lr=0.001)"
      ],
      "metadata": {
        "id": "K8VTvX9Mw-UQ"
      },
      "execution_count": 18,
      "outputs": []
    },
    {
      "cell_type": "code",
      "source": [
        "import time # Just my preference (can be skipped)\n",
        "start_time = time.time() # can be skipped\n",
        "\n",
        "# Variables\n",
        "epochs = 20\n",
        "train_losses = []\n",
        "test_losses = []\n",
        "train_correct = []\n",
        "test_correct = []\n",
        "\n",
        "# Loop of Epochs\n",
        "for i in range(epochs):\n",
        "  trn_corr = 0\n",
        "  tst_corr = 0\n",
        "\n",
        "  # Train\n",
        "  for b, (X_train, y_train) in enumerate(train_loader):\n",
        "    b += 1\n",
        "    y_pred = model(X_train) # predicted values from the training set\n",
        "    loss = criterion(y_pred, y_train) # Compare predictions to answers\n",
        "\n",
        "    predicted = torch.max(y_pred.data, 1)[1]\n",
        "    batch_corr = (predicted == y_train).sum()\n",
        "    trn_corr += batch_corr\n",
        "\n",
        "    # Update parameters\n",
        "    optimizer.zero_grad()\n",
        "    loss.backward()\n",
        "    optimizer.step()\n",
        "\n",
        "    # Print some results\n",
        "    if b % 1000 == 0:\n",
        "      print(f'Epoch: {i} | Batch: {b} | Loss: {loss.item()}')\n",
        "\n",
        "  train_losses.append(loss)\n",
        "  train_correct.append(trn_corr)\n",
        "\n",
        "  # Test\n",
        "  with torch.no_grad():\n",
        "    for b, (X_test, y_test) in enumerate(test_loader):\n",
        "      y_val = model(X_test)\n",
        "      predicted = torch.max(y_val.data, 1)[1]\n",
        "      tst_corr += (predicted == y_test).sum()\n",
        "\n",
        "    loss = criterion(y_val, y_test)\n",
        "    test_losses.append(loss)\n",
        "    test_correct.append(tst_corr)\n",
        "\n",
        "\n",
        "current_time = time.time() # can be skipped\n",
        "total = current_time - start_time # can be skipped\n",
        "print(f'Training took: {total/60} minutes.') # can be skipped"
      ],
      "metadata": {
        "colab": {
          "base_uri": "https://localhost:8080/"
        },
        "id": "Q3N-IO4HyGHP",
        "outputId": "24e8e6c7-e290-45c5-f95f-9e880947ec5c"
      },
      "execution_count": 19,
      "outputs": [
        {
          "output_type": "stream",
          "name": "stdout",
          "text": [
            "Epoch: 0 | Batch: 1000 | Loss: 0.13275423645973206\n",
            "Epoch: 0 | Batch: 2000 | Loss: 0.6177486181259155\n",
            "Epoch: 0 | Batch: 3000 | Loss: 0.5397838354110718\n",
            "Epoch: 0 | Batch: 4000 | Loss: 0.04102397710084915\n",
            "Epoch: 0 | Batch: 5000 | Loss: 0.3566568195819855\n",
            "Epoch: 0 | Batch: 6000 | Loss: 0.3091900944709778\n",
            "Epoch: 1 | Batch: 1000 | Loss: 0.08670975267887115\n",
            "Epoch: 1 | Batch: 2000 | Loss: 0.462501585483551\n",
            "Epoch: 1 | Batch: 3000 | Loss: 0.17781026661396027\n",
            "Epoch: 1 | Batch: 4000 | Loss: 0.019920986145734787\n",
            "Epoch: 1 | Batch: 5000 | Loss: 0.1971825510263443\n",
            "Epoch: 1 | Batch: 6000 | Loss: 0.27654120326042175\n",
            "Epoch: 2 | Batch: 1000 | Loss: 0.6578271389007568\n",
            "Epoch: 2 | Batch: 2000 | Loss: 0.15380775928497314\n",
            "Epoch: 2 | Batch: 3000 | Loss: 0.3673977255821228\n",
            "Epoch: 2 | Batch: 4000 | Loss: 0.08983008563518524\n",
            "Epoch: 2 | Batch: 5000 | Loss: 0.13123789429664612\n",
            "Epoch: 2 | Batch: 6000 | Loss: 0.39005178213119507\n",
            "Epoch: 3 | Batch: 1000 | Loss: 0.46933451294898987\n",
            "Epoch: 3 | Batch: 2000 | Loss: 0.09698127210140228\n",
            "Epoch: 3 | Batch: 3000 | Loss: 0.30952510237693787\n",
            "Epoch: 3 | Batch: 4000 | Loss: 0.4089643359184265\n",
            "Epoch: 3 | Batch: 5000 | Loss: 0.19215351343154907\n",
            "Epoch: 3 | Batch: 6000 | Loss: 0.0668708086013794\n",
            "Epoch: 4 | Batch: 1000 | Loss: 0.14396065473556519\n",
            "Epoch: 4 | Batch: 2000 | Loss: 0.17412981390953064\n",
            "Epoch: 4 | Batch: 3000 | Loss: 0.10622642189264297\n",
            "Epoch: 4 | Batch: 4000 | Loss: 0.5222893953323364\n",
            "Epoch: 4 | Batch: 5000 | Loss: 0.25692546367645264\n",
            "Epoch: 4 | Batch: 6000 | Loss: 0.40807652473449707\n",
            "Epoch: 5 | Batch: 1000 | Loss: 0.03316911682486534\n",
            "Epoch: 5 | Batch: 2000 | Loss: 0.13744649291038513\n",
            "Epoch: 5 | Batch: 3000 | Loss: 0.038708172738552094\n",
            "Epoch: 5 | Batch: 4000 | Loss: 0.025676783174276352\n",
            "Epoch: 5 | Batch: 5000 | Loss: 0.042738623917102814\n",
            "Epoch: 5 | Batch: 6000 | Loss: 0.20949754118919373\n",
            "Epoch: 6 | Batch: 1000 | Loss: 0.11491565406322479\n",
            "Epoch: 6 | Batch: 2000 | Loss: 0.24633200466632843\n",
            "Epoch: 6 | Batch: 3000 | Loss: 0.40106791257858276\n",
            "Epoch: 6 | Batch: 4000 | Loss: 0.058092571794986725\n",
            "Epoch: 6 | Batch: 5000 | Loss: 0.179144486784935\n",
            "Epoch: 6 | Batch: 6000 | Loss: 0.10878027975559235\n",
            "Epoch: 7 | Batch: 1000 | Loss: 0.020356688648462296\n",
            "Epoch: 7 | Batch: 2000 | Loss: 0.012805874459445477\n",
            "Epoch: 7 | Batch: 3000 | Loss: 0.006031131837517023\n",
            "Epoch: 7 | Batch: 4000 | Loss: 0.14793740212917328\n",
            "Epoch: 7 | Batch: 5000 | Loss: 0.30973196029663086\n",
            "Epoch: 7 | Batch: 6000 | Loss: 0.014224259182810783\n",
            "Epoch: 8 | Batch: 1000 | Loss: 0.0005658273003064096\n",
            "Epoch: 8 | Batch: 2000 | Loss: 0.01478943694382906\n",
            "Epoch: 8 | Batch: 3000 | Loss: 0.30249300599098206\n",
            "Epoch: 8 | Batch: 4000 | Loss: 0.1679917424917221\n",
            "Epoch: 8 | Batch: 5000 | Loss: 0.5151010155677795\n",
            "Epoch: 8 | Batch: 6000 | Loss: 0.6429282426834106\n",
            "Epoch: 9 | Batch: 1000 | Loss: 0.027257081121206284\n",
            "Epoch: 9 | Batch: 2000 | Loss: 0.00042476115049794316\n",
            "Epoch: 9 | Batch: 3000 | Loss: 0.00012313896149862558\n",
            "Epoch: 9 | Batch: 4000 | Loss: 0.0027655656449496746\n",
            "Epoch: 9 | Batch: 5000 | Loss: 0.009436992928385735\n",
            "Epoch: 9 | Batch: 6000 | Loss: 0.006963223218917847\n",
            "Epoch: 10 | Batch: 1000 | Loss: 0.14429357647895813\n",
            "Epoch: 10 | Batch: 2000 | Loss: 6.1034020291117486e-06\n",
            "Epoch: 10 | Batch: 3000 | Loss: 0.01167986448854208\n",
            "Epoch: 10 | Batch: 4000 | Loss: 0.09500410407781601\n",
            "Epoch: 10 | Batch: 5000 | Loss: 0.011725313030183315\n",
            "Epoch: 10 | Batch: 6000 | Loss: 0.04397125914692879\n",
            "Epoch: 11 | Batch: 1000 | Loss: 0.0003017561393789947\n",
            "Epoch: 11 | Batch: 2000 | Loss: 0.19595305621623993\n",
            "Epoch: 11 | Batch: 3000 | Loss: 0.5226562023162842\n",
            "Epoch: 11 | Batch: 4000 | Loss: 0.06470395624637604\n",
            "Epoch: 11 | Batch: 5000 | Loss: 0.004648203961551189\n",
            "Epoch: 11 | Batch: 6000 | Loss: 0.04811849445104599\n",
            "Epoch: 12 | Batch: 1000 | Loss: 0.0002326405083294958\n",
            "Epoch: 12 | Batch: 2000 | Loss: 0.0033767852000892162\n",
            "Epoch: 12 | Batch: 3000 | Loss: 0.010420207865536213\n",
            "Epoch: 12 | Batch: 4000 | Loss: 0.010161606594920158\n",
            "Epoch: 12 | Batch: 5000 | Loss: 0.0038470688741654158\n",
            "Epoch: 12 | Batch: 6000 | Loss: 0.00469208462163806\n",
            "Epoch: 13 | Batch: 1000 | Loss: 0.041981291025877\n",
            "Epoch: 13 | Batch: 2000 | Loss: 0.0027702380903065205\n",
            "Epoch: 13 | Batch: 3000 | Loss: 0.015308012254536152\n",
            "Epoch: 13 | Batch: 4000 | Loss: 0.0008031745674088597\n",
            "Epoch: 13 | Batch: 5000 | Loss: 0.005081952083855867\n",
            "Epoch: 13 | Batch: 6000 | Loss: 0.010824227705597878\n",
            "Epoch: 14 | Batch: 1000 | Loss: 0.012724468484520912\n",
            "Epoch: 14 | Batch: 2000 | Loss: 0.023111529648303986\n",
            "Epoch: 14 | Batch: 3000 | Loss: 0.003542420221492648\n",
            "Epoch: 14 | Batch: 4000 | Loss: 0.059995830059051514\n",
            "Epoch: 14 | Batch: 5000 | Loss: 0.01205146498978138\n",
            "Epoch: 14 | Batch: 6000 | Loss: 0.37974292039871216\n",
            "Epoch: 15 | Batch: 1000 | Loss: 2.3672804672969505e-05\n",
            "Epoch: 15 | Batch: 2000 | Loss: 0.10773082077503204\n",
            "Epoch: 15 | Batch: 3000 | Loss: 0.0017757874447852373\n",
            "Epoch: 15 | Batch: 4000 | Loss: 0.0011649720836430788\n",
            "Epoch: 15 | Batch: 5000 | Loss: 0.01250491850078106\n",
            "Epoch: 15 | Batch: 6000 | Loss: 0.015934891998767853\n",
            "Epoch: 16 | Batch: 1000 | Loss: 0.0003243852988816798\n",
            "Epoch: 16 | Batch: 2000 | Loss: 0.0006091364775784314\n",
            "Epoch: 16 | Batch: 3000 | Loss: 0.16050776839256287\n",
            "Epoch: 16 | Batch: 4000 | Loss: 0.000516048283316195\n",
            "Epoch: 16 | Batch: 5000 | Loss: 0.00082037114771083\n",
            "Epoch: 16 | Batch: 6000 | Loss: 0.5456916093826294\n",
            "Epoch: 17 | Batch: 1000 | Loss: 0.0013484166702255607\n",
            "Epoch: 17 | Batch: 2000 | Loss: 0.45222535729408264\n",
            "Epoch: 17 | Batch: 3000 | Loss: 7.51689585740678e-05\n",
            "Epoch: 17 | Batch: 4000 | Loss: 0.0028901053592562675\n",
            "Epoch: 17 | Batch: 5000 | Loss: 0.010133150033652782\n",
            "Epoch: 17 | Batch: 6000 | Loss: 0.007729982025921345\n",
            "Epoch: 18 | Batch: 1000 | Loss: 3.8211201172089204e-05\n",
            "Epoch: 18 | Batch: 2000 | Loss: 0.016173560172319412\n",
            "Epoch: 18 | Batch: 3000 | Loss: 1.2611858437594492e-05\n",
            "Epoch: 18 | Batch: 4000 | Loss: 0.005444514565169811\n",
            "Epoch: 18 | Batch: 5000 | Loss: 0.007717345841228962\n",
            "Epoch: 18 | Batch: 6000 | Loss: 0.0019762904848903418\n",
            "Epoch: 19 | Batch: 1000 | Loss: 0.030389565974473953\n",
            "Epoch: 19 | Batch: 2000 | Loss: 0.015295256860554218\n",
            "Epoch: 19 | Batch: 3000 | Loss: 0.0017414996400475502\n",
            "Epoch: 19 | Batch: 4000 | Loss: 0.2154790163040161\n",
            "Epoch: 19 | Batch: 5000 | Loss: 0.002037669299170375\n",
            "Epoch: 19 | Batch: 6000 | Loss: 0.0\n",
            "Training took: 51.168752415974936 minutes.\n"
          ]
        }
      ]
    },
    {
      "cell_type": "code",
      "source": [
        "# Plot some data\n",
        "# Change data type\n",
        "train_losses = [tl.item() for tl in train_losses]\n",
        "\n",
        "# Loss graph\n",
        "plt.plot(train_losses, label='Training Loss')\n",
        "plt.plot(test_losses, label='Testing Loss')\n",
        "plt.title('Loss at Epoch')\n",
        "plt.legend()\n",
        "plt.xlabel('Epochs')\n",
        "plt.ylabel('Loss')\n",
        "plt.show()"
      ],
      "metadata": {
        "colab": {
          "base_uri": "https://localhost:8080/",
          "height": 472
        },
        "id": "xIgLKMwmfCJa",
        "outputId": "3d9acc3d-db09-4b0b-ac25-378c4ce6ebf2"
      },
      "execution_count": 24,
      "outputs": [
        {
          "output_type": "display_data",
          "data": {
            "text/plain": [
              "<Figure size 640x480 with 1 Axes>"
            ],
            "image/png": "[encoded data removed]"
          },
          "metadata": {}
        }
      ]
    },
    {
      "cell_type": "code",
      "source": [
        "# Accuracy graph\n",
        "plt.plot([t/1000 for t in train_correct], label='Training Accuracy')\n",
        "plt.plot([t/100 for t in test_correct], label='Testing Accuracy')\n",
        "plt.title('Accuracy at Epoch')\n",
        "plt.legend()\n",
        "plt.xlabel('Epochs')\n",
        "plt.ylabel('Accuracy')\n",
        "plt.show()"
      ],
      "metadata": {
        "colab": {
          "base_uri": "https://localhost:8080/",
          "height": 472
        },
        "id": "aXSdiUTnfyJU",
        "outputId": "4777dfa5-68e8-4a3b-f3a9-ce4f16916847"
      },
      "execution_count": 26,
      "outputs": [
        {
          "output_type": "display_data",
          "data": {
            "text/plain": [
              "<Figure size 640x480 with 1 Axes>"
            ],
            "image/png": "[encoded data removed]"
          },
          "metadata": {}
        }
      ]
    },
    {
      "cell_type": "code",
      "source": [
        "test_loader = DataLoader(test_data, batch_size=10000, shuffle=False)"
      ],
      "metadata": {
        "id": "EzwQTPxPiMr0"
      },
      "execution_count": 27,
      "outputs": []
    },
    {
      "cell_type": "code",
      "source": [
        "with torch.no_grad():\n",
        "  correct = 0\n",
        "  for X_test, y_test in test_loader:\n",
        "    y_val = model(X_test)\n",
        "    predicted = torch.max(y_val, 1)[1]\n",
        "    correct += (predicted == y_test).sum()\n",
        "  print(f'Test Accuracy: {correct.item()/100}%')"
      ],
      "metadata": {
        "colab": {
          "base_uri": "https://localhost:8080/"
        },
        "id": "Z8ukRWewiVg_",
        "outputId": "1a25dbf8-6316-4359-88a7-164e551f1239"
      },
      "execution_count": 29,
      "outputs": [
        {
          "output_type": "stream",
          "name": "stdout",
          "text": [
            "Test Accuracy: 91.15%\n"
          ]
        }
      ]
    },
    {
      "cell_type": "code",
      "source": [
        "# Random image\n",
        "ri = 1234\n",
        "plt.imshow(test_data[ri][0].view(28,28), cmap='gray')"
      ],
      "metadata": {
        "colab": {
          "base_uri": "https://localhost:8080/",
          "height": 447
        },
        "id": "PayPf7q9jCYZ",
        "outputId": "62329166-5cb2-4133-ba69-18cf7587915e"
      },
      "execution_count": 30,
      "outputs": [
        {
          "output_type": "execute_result",
          "data": {
            "text/plain": [
              "<matplotlib.image.AxesImage at 0x7b21734040d0>"
            ]
          },
          "metadata": {},
          "execution_count": 30
        },
        {
          "output_type": "display_data",
          "data": {
            "text/plain": [
              "<Figure size 640x480 with 1 Axes>"
            ],
            "image/png": "[encoded data removed]"
          },
          "metadata": {}
        }
      ]
    },
    {
      "cell_type": "code",
      "source": [
        "# Just the data\n",
        "test_data[ri][0].view(28,28)"
      ],
      "metadata": {
        "colab": {
          "base_uri": "https://localhost:8080/"
        },
        "id": "jtCGuP_DjbDq",
        "outputId": "90950844-d474-44e4-e542-33943b68b939"
      },
      "execution_count": 31,
      "outputs": [
        {
          "output_type": "execute_result",
          "data": {
            "text/plain": [
              "tensor([[0.0000, 0.0000, 0.0000, 0.0000, 0.0000, 0.0000, 0.0000, 0.0000, 0.0039,\n",
              "         0.0000, 0.0000, 0.4745, 0.5294, 0.5020, 0.4745, 0.4000, 0.0000, 0.0000,\n",
              "         0.0039, 0.0000, 0.0000, 0.0000, 0.0000, 0.0000, 0.0000, 0.0000, 0.0000,\n",
              "         0.0000],\n",
              "        [0.0000, 0.0000, 0.0000, 0.0000, 0.0000, 0.0000, 0.0000, 0.0039, 0.0078,\n",
              "         0.0000, 0.0000, 0.7804, 0.7882, 0.7451, 0.7647, 0.9961, 0.0000, 0.0000,\n",
              "         0.0118, 0.0039, 0.0000, 0.0000, 0.0000, 0.0000, 0.0000, 0.0000, 0.0000,\n",
              "         0.0000],\n",
              "        [0.0000, 0.0000, 0.0000, 0.0000, 0.0000, 0.0000, 0.0078, 0.0000, 0.0000,\n",
              "         0.0000, 0.1608, 0.7333, 0.6863, 0.6588, 0.6784, 0.6510, 0.1843, 0.0000,\n",
              "         0.0000, 0.0000, 0.0157, 0.0000, 0.0000, 0.0000, 0.0000, 0.0000, 0.0000,\n",
              "         0.0000],\n",
              "        [0.0000, 0.0000, 0.0000, 0.0000, 0.0000, 0.0039, 0.0000, 0.0000, 0.2000,\n",
              "         0.5059, 0.8000, 0.7490, 0.7137, 0.6745, 0.7176, 0.6824, 0.7882, 0.5843,\n",
              "         0.2667, 0.0000, 0.0000, 0.0039, 0.0000, 0.0000, 0.0000, 0.0000, 0.0000,\n",
              "         0.0000],\n",
              "        [0.0000, 0.0000, 0.0000, 0.0000, 0.0118, 0.0000, 0.0000, 0.5647, 0.7255,\n",
              "         0.7373, 0.7020, 0.6824, 0.7059, 0.6275, 0.6353, 0.6706, 0.6588, 0.6784,\n",
              "         0.6941, 0.5647, 0.1059, 0.0000, 0.0157, 0.0000, 0.0000, 0.0000, 0.0000,\n",
              "         0.0000],\n",
              "        [0.0000, 0.0000, 0.0000, 0.0000, 0.0000, 0.0000, 0.5137, 0.7294, 0.6745,\n",
              "         0.6824, 0.7020, 0.7137, 0.7059, 0.6549, 0.6314, 0.6627, 0.6549, 0.6431,\n",
              "         0.6431, 0.6863, 0.5059, 0.0000, 0.0000, 0.0039, 0.0000, 0.0000, 0.0000,\n",
              "         0.0000],\n",
              "        [0.0000, 0.0000, 0.0000, 0.0000, 0.0000, 0.0000, 0.6078, 0.6784, 0.6941,\n",
              "         0.6941, 0.7098, 0.7059, 0.7059, 0.6588, 0.6235, 0.6471, 0.6353, 0.6549,\n",
              "         0.6549, 0.6549, 0.6627, 0.0157, 0.0000, 0.0078, 0.0000, 0.0000, 0.0000,\n",
              "         0.0000],\n",
              "        [0.0000, 0.0000, 0.0000, 0.0000, 0.0000, 0.0824, 0.6824, 0.6510, 0.6706,\n",
              "         0.6824, 0.7020, 0.6980, 0.7098, 0.6588, 0.6157, 0.6431, 0.6353, 0.6549,\n",
              "         0.6510, 0.6392, 0.7216, 0.2157, 0.0000, 0.0078, 0.0000, 0.0000, 0.0000,\n",
              "         0.0000],\n",
              "        [0.0000, 0.0000, 0.0000, 0.0000, 0.0000, 0.2118, 0.7137, 0.6784, 0.6863,\n",
              "         0.6588, 0.6941, 0.6745, 0.7020, 0.6275, 0.6235, 0.6196, 0.6039, 0.6353,\n",
              "         0.6157, 0.6510, 0.7294, 0.4275, 0.0000, 0.0039, 0.0000, 0.0000, 0.0000,\n",
              "         0.0000],\n",
              "        [0.0000, 0.0000, 0.0000, 0.0000, 0.0000, 0.2824, 0.7216, 0.7020, 0.8588,\n",
              "         0.6588, 0.6863, 0.6824, 0.7059, 0.5882, 0.6314, 0.6667, 0.6863, 0.6314,\n",
              "         0.6275, 0.7098, 0.7216, 0.6314, 0.0000, 0.0000, 0.0000, 0.0000, 0.0000,\n",
              "         0.0000],\n",
              "        [0.0000, 0.0000, 0.0000, 0.0000, 0.0000, 0.3922, 0.7176, 0.7059, 0.6784,\n",
              "         0.6784, 0.6784, 0.6745, 0.6941, 0.5922, 0.6588, 0.6980, 0.7098, 0.6627,\n",
              "         0.5216, 0.7725, 0.7020, 0.6431, 0.0000, 0.0000, 0.0000, 0.0000, 0.0000,\n",
              "         0.0000],\n",
              "        [0.0000, 0.0000, 0.0000, 0.0000, 0.0000, 0.4980, 0.7137, 0.7176, 0.0784,\n",
              "         0.6353, 0.7176, 0.6784, 0.6980, 0.5843, 0.6588, 0.6980, 0.6824, 0.7608,\n",
              "         0.1608, 0.8196, 0.7098, 0.7098, 0.0706, 0.0000, 0.0000, 0.0000, 0.0000,\n",
              "         0.0000],\n",
              "        [0.0000, 0.0000, 0.0000, 0.0000, 0.0000, 0.5922, 0.7137, 0.7961, 0.1373,\n",
              "         0.7412, 0.7098, 0.6706, 0.7020, 0.5804, 0.6510, 0.7020, 0.6667, 0.8000,\n",
              "         0.3020, 0.6275, 0.7373, 0.7255, 0.2235, 0.0000, 0.0000, 0.0000, 0.0000,\n",
              "         0.0000],\n",
              "        [0.0000, 0.0000, 0.0000, 0.0000, 0.0000, 0.5882, 0.7216, 0.7882, 0.0902,\n",
              "         0.7922, 0.6863, 0.6784, 0.7137, 0.5804, 0.6588, 0.7216, 0.6627, 0.7882,\n",
              "         0.3176, 0.2196, 0.7529, 0.7255, 0.4235, 0.0000, 0.0000, 0.0000, 0.0000,\n",
              "         0.0000],\n",
              "        [0.0000, 0.0000, 0.0000, 0.0000, 0.0000, 0.6510, 0.7137, 0.7725, 0.0392,\n",
              "         0.8118, 0.6784, 0.6824, 0.7098, 0.6000, 0.6706, 0.7216, 0.6706, 0.7765,\n",
              "         0.3098, 0.0000, 0.7294, 0.7255, 0.5490, 0.0000, 0.0000, 0.0000, 0.0000,\n",
              "         0.0000],\n",
              "        [0.0000, 0.0000, 0.0000, 0.0000, 0.0471, 0.6745, 0.7216, 0.7333, 0.0902,\n",
              "         0.8275, 0.6510, 0.6863, 0.7020, 0.6196, 0.6745, 0.7059, 0.6745, 0.7765,\n",
              "         0.4471, 0.0000, 0.8627, 0.7216, 0.6431, 0.0000, 0.0000, 0.0000, 0.0000,\n",
              "         0.0000],\n",
              "        [0.0000, 0.0000, 0.0000, 0.0000, 0.0980, 0.6824, 0.7333, 0.6157, 0.1843,\n",
              "         0.8235, 0.6392, 0.6980, 0.6980, 0.6078, 0.6745, 0.7098, 0.6941, 0.7490,\n",
              "         0.4824, 0.2667, 0.7647, 0.6980, 0.6000, 0.0000, 0.0000, 0.0000, 0.0000,\n",
              "         0.0000],\n",
              "        [0.0000, 0.0000, 0.0000, 0.0000, 0.1686, 0.6980, 0.7451, 0.5451, 0.3569,\n",
              "         0.8118, 0.6471, 0.7020, 0.7020, 0.6000, 0.6745, 0.7176, 0.7020, 0.7176,\n",
              "         0.6275, 0.3020, 0.7608, 0.6863, 0.6314, 0.0000, 0.0000, 0.0000, 0.0000,\n",
              "         0.0000],\n",
              "        [0.0000, 0.0000, 0.0000, 0.0000, 0.2196, 0.7059, 0.7490, 0.5451, 0.4510,\n",
              "         0.7765, 0.6667, 0.7059, 0.6980, 0.5922, 0.6784, 0.7137, 0.6980, 0.7098,\n",
              "         0.6667, 0.4667, 0.7451, 0.6863, 0.6510, 0.0000, 0.0000, 0.0000, 0.0000,\n",
              "         0.0000],\n",
              "        [0.0000, 0.0000, 0.0000, 0.0000, 0.2667, 0.7922, 0.7451, 0.5569, 0.6000,\n",
              "         0.7137, 0.6824, 0.6941, 0.7020, 0.6039, 0.6824, 0.7216, 0.7059, 0.7059,\n",
              "         0.7216, 0.4627, 0.8039, 0.7059, 0.7765, 0.0000, 0.0000, 0.0000, 0.0000,\n",
              "         0.0000],\n",
              "        [0.0000, 0.0000, 0.0000, 0.0000, 0.3176, 0.8000, 0.7333, 0.5569, 0.6980,\n",
              "         0.6824, 0.6941, 0.6706, 0.7098, 0.6353, 0.6667, 0.7176, 0.7020, 0.6863,\n",
              "         0.7765, 0.3373, 0.7176, 0.7216, 0.6667, 0.0078, 0.0000, 0.0000, 0.0000,\n",
              "         0.0000],\n",
              "        [0.0000, 0.0000, 0.0000, 0.0000, 0.3882, 0.7176, 0.7020, 0.7569, 0.7294,\n",
              "         0.6627, 0.6824, 0.6784, 0.6824, 0.6510, 0.6745, 0.7176, 0.7020, 0.7020,\n",
              "         0.6863, 0.4784, 0.6627, 0.7137, 0.6824, 0.0392, 0.0000, 0.0000, 0.0000,\n",
              "         0.0000],\n",
              "        [0.0000, 0.0000, 0.0000, 0.0000, 0.4118, 0.7176, 0.7294, 0.4196, 0.7765,\n",
              "         0.7373, 0.7059, 0.7059, 0.6980, 0.7020, 0.7294, 0.7412, 0.7373, 0.7333,\n",
              "         0.9569, 0.5255, 0.5843, 0.7255, 0.7020, 0.1569, 0.0000, 0.0000, 0.0000,\n",
              "         0.0000],\n",
              "        [0.0000, 0.0000, 0.0000, 0.0000, 0.4157, 0.7137, 0.7333, 0.0000, 0.0000,\n",
              "         0.1686, 0.0863, 0.0667, 0.0667, 0.1020, 0.1059, 0.0667, 0.0667, 0.0784,\n",
              "         0.1647, 0.0000, 0.3647, 0.7451, 0.7059, 0.1882, 0.0000, 0.0000, 0.0000,\n",
              "         0.0000],\n",
              "        [0.0000, 0.0000, 0.0000, 0.0000, 0.4196, 0.7216, 0.7020, 0.0314, 0.0000,\n",
              "         0.0000, 0.0000, 0.0000, 0.0000, 0.0000, 0.0000, 0.0000, 0.0000, 0.0000,\n",
              "         0.0000, 0.0000, 0.1843, 0.7294, 0.7176, 0.2784, 0.0000, 0.0000, 0.0000,\n",
              "         0.0000],\n",
              "        [0.0000, 0.0000, 0.0000, 0.0000, 0.4549, 0.7098, 0.6863, 0.0314, 0.0000,\n",
              "         0.0196, 0.0078, 0.0157, 0.0157, 0.0157, 0.0157, 0.0157, 0.0157, 0.0078,\n",
              "         0.0196, 0.0000, 0.0471, 0.6980, 0.7098, 0.4863, 0.0000, 0.0000, 0.0000,\n",
              "         0.0000],\n",
              "        [0.0000, 0.0000, 0.0000, 0.0000, 0.5725, 0.7569, 0.7059, 0.0118, 0.0000,\n",
              "         0.0118, 0.0000, 0.0000, 0.0000, 0.0000, 0.0000, 0.0000, 0.0000, 0.0000,\n",
              "         0.0078, 0.0000, 0.0118, 0.6824, 0.7608, 0.5882, 0.0000, 0.0000, 0.0000,\n",
              "         0.0000],\n",
              "        [0.0000, 0.0000, 0.0000, 0.0000, 0.1608, 0.5412, 0.4039, 0.0000, 0.0000,\n",
              "         0.0039, 0.0000, 0.0000, 0.0000, 0.0000, 0.0000, 0.0000, 0.0000, 0.0000,\n",
              "         0.0039, 0.0000, 0.0000, 0.4314, 0.5412, 0.2118, 0.0000, 0.0000, 0.0000,\n",
              "         0.0000]])"
            ]
          },
          "metadata": {},
          "execution_count": 31
        }
      ]
    },
    {
      "cell_type": "code",
      "source": [
        "# Pass through model\n",
        "model.eval()\n",
        "with torch.no_grad():\n",
        "  n_pred = model(test_data[ri][0].view(1,1,28,28))\n",
        "n_pred.argmax()"
      ],
      "metadata": {
        "colab": {
          "base_uri": "https://localhost:8080/"
        },
        "id": "814vbHcPjjzn",
        "outputId": "18ba1763-6814-4cf3-ffbc-ea90992bf29f"
      },
      "execution_count": 39,
      "outputs": [
        {
          "output_type": "execute_result",
          "data": {
            "text/plain": [
              "tensor(4)"
            ]
          },
          "metadata": {},
          "execution_count": 39
        }
      ]
    },
    {
      "cell_type": "code",
      "source": [
        "# 0\tT-shirt/top\n",
        "# 1\tTrouser\n",
        "# 2\tPullover\n",
        "# 3\tDress\n",
        "# 4\tCoat\n",
        "# 5\tSandal\n",
        "# 6\tShirt\n",
        "# 7\tSneaker\n",
        "# 8\tBag\n",
        "# 9\tAnkle boot"
      ],
      "metadata": {
        "id": "IZ5m-xPmkq6B"
      },
      "execution_count": 40,
      "outputs": []
    }
  ]
}